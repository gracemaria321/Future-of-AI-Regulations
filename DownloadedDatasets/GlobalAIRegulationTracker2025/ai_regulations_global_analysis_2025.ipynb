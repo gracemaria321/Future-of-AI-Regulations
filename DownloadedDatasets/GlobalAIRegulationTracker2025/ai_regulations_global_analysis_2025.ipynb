﻿{
 "cells": [
  {
   "cell_type": "markdown",
   "metadata": {},
   "source": [
    "# Global AI Regulation Tracker — Analysis (2025)\n",
    "\n",
    "**Author:** Awais — AI Legal Data Scientist  \n",
    "**Dataset:** `ai_regulations_global_2025_master.csv`"
   ]
  },
  {
   "cell_type": "code",
   "execution_count": null,
   "metadata": {},
   "outputs": [],
   "source": [
    "import pandas as pd\\n",
    "import matplotlib.pyplot as plt\\n",
    "MASTER_CSV = 'ai_regulations_global_2025_master.csv'\\n",
    "df = pd.read_csv(MASTER_CSV)\\n",
    "df.head()"
   ]
  },
  {
   "cell_type": "code",
   "execution_count": null,
   "metadata": {},
   "outputs": [],
   "source": [
    "status_clean = df['Status'].fillna('Nothing found').str.lower()\\n",
    "def categorize_status(x):\\n",
    "    if 'nothing found' in x: return 'Nothing found'\\n",
    "    elif 'draft' in x: return 'Draft/Proposed'\\n",
    "    elif 'policy' in x: return 'Policy/Strategy'\\n",
    "    elif ('passed' in x) or ('enforced' in x) or ('operational' in x) or ('appointed' in x):\\n",
    "        return 'Law/Enforced'\\n",
    "    elif ('reference' in x) or ('tracker' in x):\\n",
    "        return 'Reference/Tracker'\\n",
    "    else: return 'Other'\\n",
    "df['StatusCategory'] = status_clean.apply(categorize_status)\\n",
    "df['StatusCategory'].value_counts()"
   ]
  },
  {
   "cell_type": "code",
   "execution_count": null,
   "metadata": {},
   "outputs": [],
   "source": [
    "counts = df['StatusCategory'].value_counts()\\n",
    "counts.plot(kind='bar')\\n",
    "plt.title('AI Regulation Status Distribution (Global, 2025)')\\n",
    "plt.ylabel('Number of Entries')\\n",
    "plt.xticks(rotation=45, ha='right')\\n",
    "plt.tight_layout()\\n",
    "plt.show()"
   ]
  },
  {
   "cell_type": "code",
   "execution_count": null,
   "metadata": {},
   "outputs": [],
   "source": [
    "europe = set(['Ireland','Spain','Germany','Netherlands','France','EU (all Member States)','EU (reference)','EU (tracker)',\\n",
    "              'Austria','Belgium','Bulgaria','Croatia','Cyprus','Czechia','Denmark','Estonia','Finland','Greece','Hungary',\\n",
    "              'Italy','Latvia','Lithuania','Luxembourg','Malta','Poland','Portugal','Romania','Slovakia','Slovenia','Sweden',\\n",
    "              'Norway','Switzerland','Iceland','Liechtenstein','Monaco','San Marino','Andorra','Serbia','Bosnia and Herzegovina',\\n",
    "              'Montenegro','North Macedonia','Albania','Kosovo','Moldova','Ukraine','Vatican City'])\\n",
    "asia = set(['China','Japan','South Korea','India','Pakistan','Singapore','UAE','Saudi Arabia','Israel','Turkey','Indonesia',\\n",
    "            'Malaysia','Philippines','Thailand','Vietnam','Bangladesh','Sri Lanka','Nepal','Bhutan','Mongolia','Kazakhstan',\\n",
    "            'Uzbekistan','Turkmenistan','Kyrgyzstan','Tajikistan','Afghanistan','Iran','Iraq','Lebanon','Jordan','Kuwait',\\n",
    "            'Qatar','Bahrain','Oman','Yemen','Syria','State of Palestine','Macau','Taiwan','Hong Kong'])\\n",
    "africa = set(['Nigeria','Kenya','South Africa','Egypt','Morocco','Tunisia','Algeria','Ethiopia','Ghana','Uganda','Rwanda',\\n",
    "              'Tanzania','Senegal','Ivory Coast','Cameroon','Zambia','Zimbabwe','Botswana','Namibia','Mauritius','Libya',\\n",
    "              'Sudan','South Sudan','Chad','Niger','Mali','Burkina Faso','Benin','Togo','Sierra Leone','Liberia','Guinea',\\n",
    "              'Guinea-Bissau','Cape Verde','Eswatini','Lesotho','Somalia','Djibouti','Eritrea','Gabon','Congo (Republic)',\\n",
    "              'Congo (DRC)','Equatorial Guinea','Central African Republic','Comoros','Seychelles','Madagascar','Malawi',\\n",
    "              'Mozambique','Mauritania','Gambia','Angola','Côte d’Ivoire','São Tomé and Príncipe'])\\n",
    "americas = set(['United States','Canada','Mexico','Brazil','Argentina','Chile','Peru','Colombia','Uruguay','Paraguay','Bolivia',\\n",
    "                'Ecuador','Venezuela','Costa Rica','Panama','Guatemala','Honduras','El Salvador','Nicaragua','Belize','Cuba',\\n",
    "                'Haiti','Dominican Republic','Jamaica','Trinidad and Tobago','Barbados','Bahamas','Grenada','Dominica',\\n",
    "                'Saint Lucia','Saint Vincent and the Grenadines','Saint Kitts and Nevis','Antigua and Barbuda','Suriname',\\n",
    "                'Guyana'])\\n",
    "oceania = set(['Australia','New Zealand','Papua New Guinea','Fiji','Solomon Islands','Vanuatu','Samoa','Tonga','Kiribati',\\n",
    "               'Micronesia (Federated States of)','Marshall Islands','Palau','Nauru','Tuvalu','Cook Islands','Niue'])\\n",
    "\\n",
    "def assign_continent(country):\\n",
    "    if country in europe: return 'Europe'\\n",
    "    elif country in asia: return 'Asia'\\n",
    "    elif country in africa: return 'Africa'\\n",
    "    elif country in americas: return 'Americas'\\n",
    "    elif country in oceania: return 'Oceania'\\n",
    "    elif country in ['OECD']: return 'Multi-region'\\n",
    "    else: return 'Other'\\n",
    "\\n",
    "df['Continent'] = df['Country/Region'].apply(assign_continent)\\n",
    "ct_counts = df.groupby(['Continent','StatusCategory']).size().unstack(fill_value=0)\\n",
    "ct_counts"
   ]
  },
  {
   "cell_type": "code",
   "execution_count": null,
   "metadata": {},
   "outputs": [],
   "source": [
    "ct_counts.plot(kind='bar', stacked=True, figsize=(10,6))\\n",
    "plt.title('AI Regulation Status by Continent (2025)')\\n",
    "plt.ylabel('Number of Entries')\\n",
    "plt.xticks(rotation=45, ha='right')\\n",
    "plt.legend(title='Status Category')\\n",
    "plt.tight_layout()\\n",
    "plt.show()"
   ]
  }
 ],
 "metadata": {
  "kernelspec": {
   "display_name": "Python 3",
   "language": "python",
   "name": "python3"
  },
  "language_info": {
   "name": "python",
   "pygments_lexer": "ipython",
   "version": "3.11"
  }
 },
 "nbformat": 4,
 "nbformat_minor": 5
}
